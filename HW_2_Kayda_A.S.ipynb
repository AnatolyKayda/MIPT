{
 "cells": [
  {
   "cell_type": "markdown",
   "id": "f7decdbe",
   "metadata": {},
   "source": [
    "## Импорт библиотек"
   ]
  },
  {
   "cell_type": "code",
   "execution_count": 1,
   "id": "f1093e67",
   "metadata": {},
   "outputs": [],
   "source": [
    "#работа с данными\n",
    "import pandas as pd\n",
    "import numpy as np \n",
    "import random\n",
    "\n",
    "#визуализация\n",
    "import matplotlib.pyplot as plt\n",
    "import seaborn as sns "
   ]
  },
  {
   "cell_type": "markdown",
   "id": "e20c71e7",
   "metadata": {},
   "source": [
    "## Первичное знакомство с данными"
   ]
  },
  {
   "cell_type": "markdown",
   "id": "ad849421",
   "metadata": {},
   "source": [
    "### train.csv"
   ]
  },
  {
   "cell_type": "code",
   "execution_count": 3,
   "id": "c5b127b5",
   "metadata": {
    "scrolled": false
   },
   "outputs": [
    {
     "name": "stdout",
     "output_type": "stream",
     "text": [
      "CPU times: user 58.1 s, sys: 2.91 s, total: 1min\n",
      "Wall time: 1min 2s\n"
     ]
    },
    {
     "data": {
      "text/html": [
       "<div>\n",
       "<style scoped>\n",
       "    .dataframe tbody tr th:only-of-type {\n",
       "        vertical-align: middle;\n",
       "    }\n",
       "\n",
       "    .dataframe tbody tr th {\n",
       "        vertical-align: top;\n",
       "    }\n",
       "\n",
       "    .dataframe thead th {\n",
       "        text-align: right;\n",
       "    }\n",
       "</style>\n",
       "<table border=\"1\" class=\"dataframe\">\n",
       "  <thead>\n",
       "    <tr style=\"text-align: right;\">\n",
       "      <th></th>\n",
       "      <th>row_id</th>\n",
       "      <th>timestamp</th>\n",
       "      <th>user_id</th>\n",
       "      <th>content_id</th>\n",
       "      <th>content_type_id</th>\n",
       "      <th>task_container_id</th>\n",
       "      <th>user_answer</th>\n",
       "      <th>answered_correctly</th>\n",
       "      <th>prior_question_elapsed_time</th>\n",
       "      <th>prior_question_had_explanation</th>\n",
       "    </tr>\n",
       "  </thead>\n",
       "  <tbody>\n",
       "    <tr>\n",
       "      <th>0</th>\n",
       "      <td>10</td>\n",
       "      <td>255381</td>\n",
       "      <td>115</td>\n",
       "      <td>152</td>\n",
       "      <td>False</td>\n",
       "      <td>10</td>\n",
       "      <td>2</td>\n",
       "      <td>0</td>\n",
       "      <td>17000.0</td>\n",
       "      <td>False</td>\n",
       "    </tr>\n",
       "    <tr>\n",
       "      <th>1</th>\n",
       "      <td>12</td>\n",
       "      <td>302994</td>\n",
       "      <td>115</td>\n",
       "      <td>108</td>\n",
       "      <td>False</td>\n",
       "      <td>12</td>\n",
       "      <td>1</td>\n",
       "      <td>0</td>\n",
       "      <td>23000.0</td>\n",
       "      <td>False</td>\n",
       "    </tr>\n",
       "    <tr>\n",
       "      <th>2</th>\n",
       "      <td>15</td>\n",
       "      <td>376162</td>\n",
       "      <td>115</td>\n",
       "      <td>7971</td>\n",
       "      <td>False</td>\n",
       "      <td>15</td>\n",
       "      <td>2</td>\n",
       "      <td>1</td>\n",
       "      <td>22000.0</td>\n",
       "      <td>False</td>\n",
       "    </tr>\n",
       "    <tr>\n",
       "      <th>3</th>\n",
       "      <td>21</td>\n",
       "      <td>510583</td>\n",
       "      <td>115</td>\n",
       "      <td>7984</td>\n",
       "      <td>False</td>\n",
       "      <td>21</td>\n",
       "      <td>3</td>\n",
       "      <td>0</td>\n",
       "      <td>20000.0</td>\n",
       "      <td>False</td>\n",
       "    </tr>\n",
       "    <tr>\n",
       "      <th>4</th>\n",
       "      <td>23</td>\n",
       "      <td>557677</td>\n",
       "      <td>115</td>\n",
       "      <td>185</td>\n",
       "      <td>False</td>\n",
       "      <td>23</td>\n",
       "      <td>3</td>\n",
       "      <td>0</td>\n",
       "      <td>21000.0</td>\n",
       "      <td>False</td>\n",
       "    </tr>\n",
       "  </tbody>\n",
       "</table>\n",
       "</div>"
      ],
      "text/plain": [
       "   row_id  timestamp  user_id  content_id  content_type_id  task_container_id  \\\n",
       "0      10     255381      115         152            False                 10   \n",
       "1      12     302994      115         108            False                 12   \n",
       "2      15     376162      115        7971            False                 15   \n",
       "3      21     510583      115        7984            False                 21   \n",
       "4      23     557677      115         185            False                 23   \n",
       "\n",
       "   user_answer  answered_correctly  prior_question_elapsed_time  \\\n",
       "0            2                   0                      17000.0   \n",
       "1            1                   0                      23000.0   \n",
       "2            2                   1                      22000.0   \n",
       "3            3                   0                      20000.0   \n",
       "4            3                   0                      21000.0   \n",
       "\n",
       "   prior_question_had_explanation  \n",
       "0                           False  \n",
       "1                           False  \n",
       "2                           False  \n",
       "3                           False  \n",
       "4                           False  "
      ]
     },
     "execution_count": 3,
     "metadata": {},
     "output_type": "execute_result"
    }
   ],
   "source": [
    "%%time\n",
    "#Дата сет довольно большой, поэтому кажется лучше взять рандомную выборку в 10 % строк\n",
    "\n",
    "#заранее лучше указать типа данных столбцов для оптимального хранения данных. \n",
    "dtypes = {\n",
    "    \"row_id\": \"int64\",\n",
    "    \"timestamp\": \"int64\",\n",
    "    \"user_id\": \"int32\",\n",
    "    \"content_id\": \"int16\",\n",
    "    \"content_type_id\": \"boolean\",\n",
    "    \"task_container_id\": \"int16\",\n",
    "    \"user_answer\": \"int8\",\n",
    "    \"answered_correctly\": \"int8\",\n",
    "    \"prior_question_elapsed_time\": \"float32\", \n",
    "    \"prior_question_had_explanation\": \"boolean\"\n",
    "}\n",
    "\n",
    "path = '/home/anatoly/Desktop/Data_Science/MIPT/DATA/riiid-test-answer-prediction/'\n",
    "\n",
    "p = 0.1 \n",
    "random.seed(11)\n",
    "\n",
    "train = pd.read_csv(path+'train.csv', \n",
    "                    dtype=dtypes,\n",
    "                    header=0,\n",
    "                    skiprows=lambda i: i>0 and random.random()>p)\n",
    "train.head()"
   ]
  },
  {
   "cell_type": "markdown",
   "id": "d240e80e",
   "metadata": {},
   "source": []
  },
  {
   "cell_type": "code",
   "execution_count": 4,
   "id": "051cfa7d",
   "metadata": {
    "scrolled": true
   },
   "outputs": [
    {
     "name": "stdout",
     "output_type": "stream",
     "text": [
      "<class 'pandas.core.frame.DataFrame'>\n",
      "RangeIndex: 10123715 entries, 0 to 10123714\n",
      "Data columns (total 9 columns):\n",
      " #   Column                          Dtype  \n",
      "---  ------                          -----  \n",
      " 0   timestamp                       int64  \n",
      " 1   user_id                         int32  \n",
      " 2   content_id                      int16  \n",
      " 3   content_type_id                 boolean\n",
      " 4   task_container_id               int16  \n",
      " 5   user_answer                     int8   \n",
      " 6   answered_correctly              int8   \n",
      " 7   prior_question_elapsed_time     float32\n",
      " 8   prior_question_had_explanation  boolean\n",
      "dtypes: boolean(2), float32(1), int16(2), int32(1), int64(1), int8(2)\n",
      "memory usage: 251.0 MB\n"
     ]
    }
   ],
   "source": [
    "train.drop('row_id', axis=1, inplace=True) #row_id не несет полезной информации\n",
    "train.info()"
   ]
  },
  {
   "cell_type": "code",
   "execution_count": 5,
   "id": "7b719754",
   "metadata": {
    "scrolled": false
   },
   "outputs": [
    {
     "data": {
      "text/plain": [
       "timestamp                              0\n",
       "user_id                                0\n",
       "content_id                             0\n",
       "content_type_id                        0\n",
       "task_container_id                      0\n",
       "user_answer                            0\n",
       "answered_correctly                     0\n",
       "prior_question_elapsed_time       235310\n",
       "prior_question_had_explanation     39388\n",
       "dtype: int64"
      ]
     },
     "execution_count": 5,
     "metadata": {},
     "output_type": "execute_result"
    }
   ],
   "source": [
    "train.isna().sum() # ЕСТЬ ПРОПУСКИ!"
   ]
  },
  {
   "cell_type": "code",
   "execution_count": 6,
   "id": "b2459fca",
   "metadata": {},
   "outputs": [
    {
     "data": {
      "image/png": "[encoded data removed]",
      "text/plain": [
       "<Figure size 576x360 with 4 Axes>"
      ]
     },
     "metadata": {
      "needs_background": "light"
     },
     "output_type": "display_data"
    }
   ],
   "source": [
    "train[['timestamp', 'answered_correctly','user_answer', \n",
    "       'prior_question_elapsed_time']].hist(bins=50, figsize=(8,5))\n",
    "plt.tight_layout()\n",
    "plt.show()"
   ]
  },
  {
   "cell_type": "code",
   "execution_count": 7,
   "id": "1c6b60a0",
   "metadata": {
    "scrolled": false
   },
   "outputs": [
    {
     "data": {
      "text/plain": [
       "<AxesSubplot:xlabel='prior_question_elapsed_time'>"
      ]
     },
     "execution_count": 7,
     "metadata": {},
     "output_type": "execute_result"
    },
    {
     "data": {
      "image/png": "[encoded data removed]",
      "text/plain": [
       "<Figure size 432x288 with 2 Axes>"
      ]
     },
     "metadata": {
      "needs_background": "light"
     },
     "output_type": "display_data"
    }
   ],
   "source": [
    "fig, axes = plt.subplots(1,2)\n",
    "sns.boxplot(data=train, x='timestamp', ax=axes[0],)\n",
    "sns.boxplot(data=train, x='prior_question_elapsed_time', ax=axes[1])\n",
    "#есть довольно много отклоняющихся значений. "
   ]
  },
  {
   "cell_type": "code",
   "execution_count": 8,
   "id": "8959434a",
   "metadata": {
    "scrolled": true
   },
   "outputs": [
    {
     "data": {
      "text/html": [
       "<div>\n",
       "<style scoped>\n",
       "    .dataframe tbody tr th:only-of-type {\n",
       "        vertical-align: middle;\n",
       "    }\n",
       "\n",
       "    .dataframe tbody tr th {\n",
       "        vertical-align: top;\n",
       "    }\n",
       "\n",
       "    .dataframe thead th {\n",
       "        text-align: right;\n",
       "    }\n",
       "</style>\n",
       "<table border=\"1\" class=\"dataframe\">\n",
       "  <thead>\n",
       "    <tr style=\"text-align: right;\">\n",
       "      <th></th>\n",
       "      <th>count</th>\n",
       "      <th>unique</th>\n",
       "      <th>top</th>\n",
       "      <th>freq</th>\n",
       "      <th>mean</th>\n",
       "      <th>std</th>\n",
       "      <th>min</th>\n",
       "      <th>25%</th>\n",
       "      <th>50%</th>\n",
       "      <th>75%</th>\n",
       "      <th>max</th>\n",
       "    </tr>\n",
       "  </thead>\n",
       "  <tbody>\n",
       "    <tr>\n",
       "      <th>timestamp</th>\n",
       "      <td>10123715.0</td>\n",
       "      <td>NaN</td>\n",
       "      <td>NaN</td>\n",
       "      <td>NaN</td>\n",
       "      <td>128548.136989</td>\n",
       "      <td>193507.045416</td>\n",
       "      <td>0.0</td>\n",
       "      <td>8738.0</td>\n",
       "      <td>44572.0</td>\n",
       "      <td>165474.0</td>\n",
       "      <td>1453221.0</td>\n",
       "    </tr>\n",
       "    <tr>\n",
       "      <th>user_id</th>\n",
       "      <td>10123715.0</td>\n",
       "      <td>NaN</td>\n",
       "      <td>NaN</td>\n",
       "      <td>NaN</td>\n",
       "      <td>1076694471.630983</td>\n",
       "      <td>619685670.684876</td>\n",
       "      <td>115.0</td>\n",
       "      <td>540952112.0</td>\n",
       "      <td>1071653750.0</td>\n",
       "      <td>1615726374.0</td>\n",
       "      <td>2147482888.0</td>\n",
       "    </tr>\n",
       "    <tr>\n",
       "      <th>content_id</th>\n",
       "      <td>10123715.0</td>\n",
       "      <td>NaN</td>\n",
       "      <td>NaN</td>\n",
       "      <td>NaN</td>\n",
       "      <td>5218.660393</td>\n",
       "      <td>3865.564193</td>\n",
       "      <td>0.0</td>\n",
       "      <td>2063.0</td>\n",
       "      <td>5026.0</td>\n",
       "      <td>7425.0</td>\n",
       "      <td>32736.0</td>\n",
       "    </tr>\n",
       "    <tr>\n",
       "      <th>content_type_id</th>\n",
       "      <td>10123715</td>\n",
       "      <td>2</td>\n",
       "      <td>False</td>\n",
       "      <td>9927793</td>\n",
       "      <td>NaN</td>\n",
       "      <td>NaN</td>\n",
       "      <td>NaN</td>\n",
       "      <td>NaN</td>\n",
       "      <td>NaN</td>\n",
       "      <td>NaN</td>\n",
       "      <td>NaN</td>\n",
       "    </tr>\n",
       "    <tr>\n",
       "      <th>task_container_id</th>\n",
       "      <td>10123715.0</td>\n",
       "      <td>NaN</td>\n",
       "      <td>NaN</td>\n",
       "      <td>NaN</td>\n",
       "      <td>904.158762</td>\n",
       "      <td>1358.493983</td>\n",
       "      <td>0.0</td>\n",
       "      <td>105.0</td>\n",
       "      <td>382.0</td>\n",
       "      <td>1093.0</td>\n",
       "      <td>9999.0</td>\n",
       "    </tr>\n",
       "    <tr>\n",
       "      <th>user_answer</th>\n",
       "      <td>10123715.0</td>\n",
       "      <td>NaN</td>\n",
       "      <td>NaN</td>\n",
       "      <td>NaN</td>\n",
       "      <td>1.376556</td>\n",
       "      <td>1.192968</td>\n",
       "      <td>-1.0</td>\n",
       "      <td>0.0</td>\n",
       "      <td>1.0</td>\n",
       "      <td>3.0</td>\n",
       "      <td>3.0</td>\n",
       "    </tr>\n",
       "    <tr>\n",
       "      <th>answered_correctly</th>\n",
       "      <td>10123715.0</td>\n",
       "      <td>NaN</td>\n",
       "      <td>NaN</td>\n",
       "      <td>NaN</td>\n",
       "      <td>0.625233</td>\n",
       "      <td>0.522515</td>\n",
       "      <td>-1.0</td>\n",
       "      <td>0.0</td>\n",
       "      <td>1.0</td>\n",
       "      <td>1.0</td>\n",
       "      <td>1.0</td>\n",
       "    </tr>\n",
       "    <tr>\n",
       "      <th>prior_question_elapsed_time</th>\n",
       "      <td>9888405.0</td>\n",
       "      <td>NaN</td>\n",
       "      <td>NaN</td>\n",
       "      <td>NaN</td>\n",
       "      <td>0.423734</td>\n",
       "      <td>0.332539</td>\n",
       "      <td>0.0</td>\n",
       "      <td>0.266667</td>\n",
       "      <td>0.35</td>\n",
       "      <td>0.494433</td>\n",
       "      <td>5.0</td>\n",
       "    </tr>\n",
       "    <tr>\n",
       "      <th>prior_question_had_explanation</th>\n",
       "      <td>10084327</td>\n",
       "      <td>2</td>\n",
       "      <td>True</td>\n",
       "      <td>8967375</td>\n",
       "      <td>NaN</td>\n",
       "      <td>NaN</td>\n",
       "      <td>NaN</td>\n",
       "      <td>NaN</td>\n",
       "      <td>NaN</td>\n",
       "      <td>NaN</td>\n",
       "      <td>NaN</td>\n",
       "    </tr>\n",
       "  </tbody>\n",
       "</table>\n",
       "</div>"
      ],
      "text/plain": [
       "                                     count unique    top     freq  \\\n",
       "timestamp                       10123715.0    NaN    NaN      NaN   \n",
       "user_id                         10123715.0    NaN    NaN      NaN   \n",
       "content_id                      10123715.0    NaN    NaN      NaN   \n",
       "content_type_id                   10123715      2  False  9927793   \n",
       "task_container_id               10123715.0    NaN    NaN      NaN   \n",
       "user_answer                     10123715.0    NaN    NaN      NaN   \n",
       "answered_correctly              10123715.0    NaN    NaN      NaN   \n",
       "prior_question_elapsed_time      9888405.0    NaN    NaN      NaN   \n",
       "prior_question_had_explanation    10084327      2   True  8967375   \n",
       "\n",
       "                                             mean               std    min  \\\n",
       "timestamp                           128548.136989     193507.045416    0.0   \n",
       "user_id                         1076694471.630983  619685670.684876  115.0   \n",
       "content_id                            5218.660393       3865.564193    0.0   \n",
       "content_type_id                               NaN               NaN    NaN   \n",
       "task_container_id                      904.158762       1358.493983    0.0   \n",
       "user_answer                              1.376556          1.192968   -1.0   \n",
       "answered_correctly                       0.625233          0.522515   -1.0   \n",
       "prior_question_elapsed_time              0.423734          0.332539    0.0   \n",
       "prior_question_had_explanation                NaN               NaN    NaN   \n",
       "\n",
       "                                        25%           50%           75%  \\\n",
       "timestamp                            8738.0       44572.0      165474.0   \n",
       "user_id                         540952112.0  1071653750.0  1615726374.0   \n",
       "content_id                           2063.0        5026.0        7425.0   \n",
       "content_type_id                         NaN           NaN           NaN   \n",
       "task_container_id                     105.0         382.0        1093.0   \n",
       "user_answer                             0.0           1.0           3.0   \n",
       "answered_correctly                      0.0           1.0           1.0   \n",
       "prior_question_elapsed_time        0.266667          0.35      0.494433   \n",
       "prior_question_had_explanation          NaN           NaN           NaN   \n",
       "\n",
       "                                         max  \n",
       "timestamp                          1453221.0  \n",
       "user_id                         2147482888.0  \n",
       "content_id                           32736.0  \n",
       "content_type_id                          NaN  \n",
       "task_container_id                     9999.0  \n",
       "user_answer                              3.0  \n",
       "answered_correctly                       1.0  \n",
       "prior_question_elapsed_time              5.0  \n",
       "prior_question_had_explanation           NaN  "
      ]
     },
     "execution_count": 8,
     "metadata": {},
     "output_type": "execute_result"
    }
   ],
   "source": [
    "train['timestamp'] = train['timestamp'].apply(lambda x: int(x/60/1000))\n",
    "train['prior_question_elapsed_time'] = train['prior_question_elapsed_time'].apply(lambda x: (x/60/1000))\n",
    "\n",
    "train.describe().T"
   ]
  },
  {
   "cell_type": "code",
   "execution_count": 9,
   "id": "733889ca",
   "metadata": {
    "scrolled": true
   },
   "outputs": [
    {
     "data": {
      "image/png": "[encoded data removed]",
      "text/plain": [
       "<Figure size 432x288 with 2 Axes>"
      ]
     },
     "metadata": {
      "needs_background": "light"
     },
     "output_type": "display_data"
    }
   ],
   "source": [
    "sns.heatmap(train.corr().round(2), annot=True)\n",
    "plt.xticks(rotation=90) \n",
    "plt.show()"
   ]
  },
  {
   "cell_type": "markdown",
   "id": "a9c161f5",
   "metadata": {},
   "source": [
    "Инетересно! Проглядываются какие-то корреляции между целевым признаком answered_coreectly и признакми. Их нужно изучить подробнее -  возможно за этим скрывается какая-то закономерность, хотя не исключено, что наблюдаются какие-то артефакты."
   ]
  },
  {
   "cell_type": "code",
   "execution_count": 10,
   "id": "b561c4a3",
   "metadata": {
    "scrolled": true
   },
   "outputs": [
    {
     "name": "stdout",
     "output_type": "stream",
     "text": [
      "CPU times: user 37.4 s, sys: 3.02 s, total: 40.4 s\n",
      "Wall time: 35.7 s\n"
     ]
    },
    {
     "data": {
      "text/plain": [
       "<AxesSubplot:xlabel='timestamp', ylabel='Density'>"
      ]
     },
     "execution_count": 10,
     "metadata": {},
     "output_type": "execute_result"
    },
    {
     "data": {
      "image/png": "[encoded data removed]",
      "text/plain": [
       "<Figure size 432x288 with 1 Axes>"
      ]
     },
     "metadata": {
      "needs_background": "light"
     },
     "output_type": "display_data"
    }
   ],
   "source": [
    "%%time\n",
    "sns.kdeplot(data=train, x='timestamp', \n",
    "            hue=\"answered_correctly\", \n",
    "            palette={-1: 'red', 0: 'blue', 1:'green'})"
   ]
  },
  {
   "cell_type": "code",
   "execution_count": 11,
   "id": "f4961e4b",
   "metadata": {
    "scrolled": true
   },
   "outputs": [
    {
     "name": "stdout",
     "output_type": "stream",
     "text": [
      "CPU times: user 36.2 s, sys: 3.67 s, total: 39.9 s\n",
      "Wall time: 36.1 s\n"
     ]
    },
    {
     "data": {
      "text/plain": [
       "<AxesSubplot:xlabel='prior_question_elapsed_time', ylabel='Density'>"
      ]
     },
     "execution_count": 11,
     "metadata": {},
     "output_type": "execute_result"
    },
    {
     "data": {
      "image/png": "[encoded data removed]",
      "text/plain": [
       "<Figure size 432x288 with 1 Axes>"
      ]
     },
     "metadata": {
      "needs_background": "light"
     },
     "output_type": "display_data"
    }
   ],
   "source": [
    "%%time\n",
    "sns.kdeplot(data=train[train['answered_correctly']!=-1],\n",
    "            x='prior_question_elapsed_time', \n",
    "            hue=\"answered_correctly\",  common_norm=False,\n",
    "            palette={-1: 'red', 0: 'blue', 1:'green'}, )"
   ]
  },
  {
   "cell_type": "markdown",
   "id": "77777873",
   "metadata": {},
   "source": [
    "Интересно, что распределения для среднего времи ответа на вопросы для верных и не верных не отличается. "
   ]
  },
  {
   "cell_type": "code",
   "execution_count": 12,
   "id": "ee50e448",
   "metadata": {},
   "outputs": [
    {
     "name": "stdout",
     "output_type": "stream",
     "text": [
      "Доля событий \"взаимодействие пользователя - лекция\" 0.02\n",
      "Доля правильных ответов: 0.66\n"
     ]
    }
   ],
   "source": [
    "print('Доля событий \"взаимодействие пользователя - лекция\"',\n",
    "      round(train['answered_correctly'][train['answered_correctly']==-1].shape[0]/train.shape[0],2))\n",
    "print('Доля правильных ответов:',\n",
    "      train['answered_correctly'][train['answered_correctly']!=-1].mean().round(2))"
   ]
  },
  {
   "cell_type": "markdown",
   "id": "456079cd",
   "metadata": {},
   "source": [
    "Из графика выше можно сделать вывод: события в столбце answered_correctly, которые относятся к просмотру лекции можно отбросить, т.к. они не отражают успеваемость студента. "
   ]
  },
  {
   "cell_type": "code",
   "execution_count": 13,
   "id": "33165b02",
   "metadata": {
    "scrolled": true
   },
   "outputs": [],
   "source": [
    "group_user = train.groupby('user_id') #сгруппируем данные по пользователям"
   ]
  },
  {
   "cell_type": "code",
   "execution_count": 14,
   "id": "76ec7927",
   "metadata": {
    "scrolled": false
   },
   "outputs": [
    {
     "data": {
      "text/plain": [
       "array([[<AxesSubplot:title={'center':'timestamp'}>]], dtype=object)"
      ]
     },
     "execution_count": 14,
     "metadata": {},
     "output_type": "execute_result"
    },
    {
     "data": {
      "image/png": "[encoded data removed]",
      "text/plain": [
       "<Figure size 432x288 with 1 Axes>"
      ]
     },
     "metadata": {
      "needs_background": "light"
     },
     "output_type": "display_data"
    }
   ],
   "source": [
    "group_user.aggregate({'timestamp': 'max'}).hist(bins = 100) # большинство пользователей покидают платформу довольно бытсро "
   ]
  },
  {
   "cell_type": "markdown",
   "id": "cb9675e8",
   "metadata": {},
   "source": [
    "Признак timestamp можно рассматривать как \"время жизни\" пользователя. Из гистограммы выше отчетливо видно, что львиная доля студентов уходят довольно быстро. По всей видимости этот признак имеет ключевое влияние на успеваемость студента.Попробуем разбить данные на групы в зависимости от количества ответов. "
   ]
  },
  {
   "cell_type": "code",
   "execution_count": 15,
   "id": "c6a88abd",
   "metadata": {
    "scrolled": true
   },
   "outputs": [
    {
     "data": {
      "text/plain": [
       "0    2817481\n",
       "1    2699153\n",
       "3    2610314\n",
       "2    1800845\n",
       "Name: user_answer, dtype: int64"
      ]
     },
     "execution_count": 15,
     "metadata": {},
     "output_type": "execute_result"
    }
   ],
   "source": [
    "#удалим answered_correctly = -1\n",
    "train = train[train['answered_correctly']!=-1]\n",
    "train.user_answer.value_counts() # одновременно ушли значения user_answer=-1!"
   ]
  },
  {
   "cell_type": "markdown",
   "id": "ceb5e896",
   "metadata": {},
   "source": [
    "### questions.csv"
   ]
  },
  {
   "cell_type": "code",
   "execution_count": 16,
   "id": "1786f0e4",
   "metadata": {},
   "outputs": [
    {
     "data": {
      "text/html": [
       "<div>\n",
       "<style scoped>\n",
       "    .dataframe tbody tr th:only-of-type {\n",
       "        vertical-align: middle;\n",
       "    }\n",
       "\n",
       "    .dataframe tbody tr th {\n",
       "        vertical-align: top;\n",
       "    }\n",
       "\n",
       "    .dataframe thead th {\n",
       "        text-align: right;\n",
       "    }\n",
       "</style>\n",
       "<table border=\"1\" class=\"dataframe\">\n",
       "  <thead>\n",
       "    <tr style=\"text-align: right;\">\n",
       "      <th></th>\n",
       "      <th>question_id</th>\n",
       "      <th>bundle_id</th>\n",
       "      <th>correct_answer</th>\n",
       "      <th>part</th>\n",
       "      <th>tags</th>\n",
       "    </tr>\n",
       "  </thead>\n",
       "  <tbody>\n",
       "    <tr>\n",
       "      <th>0</th>\n",
       "      <td>0</td>\n",
       "      <td>0</td>\n",
       "      <td>0</td>\n",
       "      <td>1</td>\n",
       "      <td>51 131 162 38</td>\n",
       "    </tr>\n",
       "    <tr>\n",
       "      <th>1</th>\n",
       "      <td>1</td>\n",
       "      <td>1</td>\n",
       "      <td>1</td>\n",
       "      <td>1</td>\n",
       "      <td>131 36 81</td>\n",
       "    </tr>\n",
       "    <tr>\n",
       "      <th>2</th>\n",
       "      <td>2</td>\n",
       "      <td>2</td>\n",
       "      <td>0</td>\n",
       "      <td>1</td>\n",
       "      <td>131 101 162 92</td>\n",
       "    </tr>\n",
       "    <tr>\n",
       "      <th>3</th>\n",
       "      <td>3</td>\n",
       "      <td>3</td>\n",
       "      <td>0</td>\n",
       "      <td>1</td>\n",
       "      <td>131 149 162 29</td>\n",
       "    </tr>\n",
       "    <tr>\n",
       "      <th>4</th>\n",
       "      <td>4</td>\n",
       "      <td>4</td>\n",
       "      <td>3</td>\n",
       "      <td>1</td>\n",
       "      <td>131 5 162 38</td>\n",
       "    </tr>\n",
       "  </tbody>\n",
       "</table>\n",
       "</div>"
      ],
      "text/plain": [
       "   question_id  bundle_id  correct_answer  part            tags\n",
       "0            0          0               0     1   51 131 162 38\n",
       "1            1          1               1     1       131 36 81\n",
       "2            2          2               0     1  131 101 162 92\n",
       "3            3          3               0     1  131 149 162 29\n",
       "4            4          4               3     1    131 5 162 38"
      ]
     },
     "execution_count": 16,
     "metadata": {},
     "output_type": "execute_result"
    }
   ],
   "source": [
    "questions = pd.read_csv(path+'questions.csv')\n",
    "questions.head()"
   ]
  },
  {
   "cell_type": "code",
   "execution_count": 17,
   "id": "4e8fb984",
   "metadata": {},
   "outputs": [
    {
     "name": "stdout",
     "output_type": "stream",
     "text": [
      "<class 'pandas.core.frame.DataFrame'>\n",
      "RangeIndex: 13523 entries, 0 to 13522\n",
      "Data columns (total 5 columns):\n",
      " #   Column          Non-Null Count  Dtype \n",
      "---  ------          --------------  ----- \n",
      " 0   question_id     13523 non-null  int64 \n",
      " 1   bundle_id       13523 non-null  int64 \n",
      " 2   correct_answer  13523 non-null  int64 \n",
      " 3   part            13523 non-null  int64 \n",
      " 4   tags            13522 non-null  object\n",
      "dtypes: int64(4), object(1)\n",
      "memory usage: 528.4+ KB\n"
     ]
    }
   ],
   "source": [
    "questions.info() #одие пропуск. Удалим его! "
   ]
  },
  {
   "cell_type": "code",
   "execution_count": 18,
   "id": "0df3fd8d",
   "metadata": {},
   "outputs": [
    {
     "data": {
      "text/html": [
       "<div>\n",
       "<style scoped>\n",
       "    .dataframe tbody tr th:only-of-type {\n",
       "        vertical-align: middle;\n",
       "    }\n",
       "\n",
       "    .dataframe tbody tr th {\n",
       "        vertical-align: top;\n",
       "    }\n",
       "\n",
       "    .dataframe thead th {\n",
       "        text-align: right;\n",
       "    }\n",
       "</style>\n",
       "<table border=\"1\" class=\"dataframe\">\n",
       "  <thead>\n",
       "    <tr style=\"text-align: right;\">\n",
       "      <th></th>\n",
       "      <th>count</th>\n",
       "      <th>mean</th>\n",
       "      <th>std</th>\n",
       "      <th>min</th>\n",
       "      <th>25%</th>\n",
       "      <th>50%</th>\n",
       "      <th>75%</th>\n",
       "      <th>max</th>\n",
       "    </tr>\n",
       "  </thead>\n",
       "  <tbody>\n",
       "    <tr>\n",
       "      <th>question_id</th>\n",
       "      <td>13522.0</td>\n",
       "      <td>6760.758024</td>\n",
       "      <td>3903.941125</td>\n",
       "      <td>0.0</td>\n",
       "      <td>3380.25</td>\n",
       "      <td>6760.5</td>\n",
       "      <td>10141.75</td>\n",
       "      <td>13522.0</td>\n",
       "    </tr>\n",
       "    <tr>\n",
       "      <th>bundle_id</th>\n",
       "      <td>13522.0</td>\n",
       "      <td>6760.268895</td>\n",
       "      <td>3903.900695</td>\n",
       "      <td>0.0</td>\n",
       "      <td>3378.75</td>\n",
       "      <td>6759.0</td>\n",
       "      <td>10140.00</td>\n",
       "      <td>13522.0</td>\n",
       "    </tr>\n",
       "    <tr>\n",
       "      <th>correct_answer</th>\n",
       "      <td>13522.0</td>\n",
       "      <td>1.455258</td>\n",
       "      <td>1.149740</td>\n",
       "      <td>0.0</td>\n",
       "      <td>0.00</td>\n",
       "      <td>1.0</td>\n",
       "      <td>3.00</td>\n",
       "      <td>3.0</td>\n",
       "    </tr>\n",
       "    <tr>\n",
       "      <th>part</th>\n",
       "      <td>13522.0</td>\n",
       "      <td>4.264828</td>\n",
       "      <td>1.652547</td>\n",
       "      <td>1.0</td>\n",
       "      <td>3.00</td>\n",
       "      <td>5.0</td>\n",
       "      <td>5.00</td>\n",
       "      <td>7.0</td>\n",
       "    </tr>\n",
       "  </tbody>\n",
       "</table>\n",
       "</div>"
      ],
      "text/plain": [
       "                  count         mean          std  min      25%     50%  \\\n",
       "question_id     13522.0  6760.758024  3903.941125  0.0  3380.25  6760.5   \n",
       "bundle_id       13522.0  6760.268895  3903.900695  0.0  3378.75  6759.0   \n",
       "correct_answer  13522.0     1.455258     1.149740  0.0     0.00     1.0   \n",
       "part            13522.0     4.264828     1.652547  1.0     3.00     5.0   \n",
       "\n",
       "                     75%      max  \n",
       "question_id     10141.75  13522.0  \n",
       "bundle_id       10140.00  13522.0  \n",
       "correct_answer      3.00      3.0  \n",
       "part                5.00      7.0  "
      ]
     },
     "execution_count": 18,
     "metadata": {},
     "output_type": "execute_result"
    }
   ],
   "source": [
    "questions.dropna(inplace=True)\n",
    "questions.describe().T"
   ]
  },
  {
   "cell_type": "code",
   "execution_count": 19,
   "id": "336cd26f",
   "metadata": {},
   "outputs": [
    {
     "data": {
      "text/html": [
       "<div>\n",
       "<style scoped>\n",
       "    .dataframe tbody tr th:only-of-type {\n",
       "        vertical-align: middle;\n",
       "    }\n",
       "\n",
       "    .dataframe tbody tr th {\n",
       "        vertical-align: top;\n",
       "    }\n",
       "\n",
       "    .dataframe thead th {\n",
       "        text-align: right;\n",
       "    }\n",
       "</style>\n",
       "<table border=\"1\" class=\"dataframe\">\n",
       "  <thead>\n",
       "    <tr style=\"text-align: right;\">\n",
       "      <th></th>\n",
       "      <th>timestamp</th>\n",
       "      <th>user_id</th>\n",
       "      <th>content_id</th>\n",
       "      <th>content_type_id</th>\n",
       "      <th>task_container_id</th>\n",
       "      <th>user_answer</th>\n",
       "      <th>answered_correctly</th>\n",
       "      <th>prior_question_elapsed_time</th>\n",
       "      <th>prior_question_had_explanation</th>\n",
       "      <th>question_id</th>\n",
       "      <th>bundle_id</th>\n",
       "      <th>correct_answer</th>\n",
       "      <th>part</th>\n",
       "      <th>tags</th>\n",
       "    </tr>\n",
       "  </thead>\n",
       "  <tbody>\n",
       "    <tr>\n",
       "      <th>0</th>\n",
       "      <td>4</td>\n",
       "      <td>115</td>\n",
       "      <td>152</td>\n",
       "      <td>False</td>\n",
       "      <td>10</td>\n",
       "      <td>2</td>\n",
       "      <td>0</td>\n",
       "      <td>0.283333</td>\n",
       "      <td>False</td>\n",
       "      <td>152</td>\n",
       "      <td>152</td>\n",
       "      <td>1</td>\n",
       "      <td>1</td>\n",
       "      <td>131 5 162 81</td>\n",
       "    </tr>\n",
       "    <tr>\n",
       "      <th>1</th>\n",
       "      <td>5</td>\n",
       "      <td>115</td>\n",
       "      <td>108</td>\n",
       "      <td>False</td>\n",
       "      <td>12</td>\n",
       "      <td>1</td>\n",
       "      <td>0</td>\n",
       "      <td>0.383333</td>\n",
       "      <td>False</td>\n",
       "      <td>108</td>\n",
       "      <td>108</td>\n",
       "      <td>3</td>\n",
       "      <td>1</td>\n",
       "      <td>131 104 92</td>\n",
       "    </tr>\n",
       "    <tr>\n",
       "      <th>2</th>\n",
       "      <td>6</td>\n",
       "      <td>115</td>\n",
       "      <td>7971</td>\n",
       "      <td>False</td>\n",
       "      <td>15</td>\n",
       "      <td>2</td>\n",
       "      <td>1</td>\n",
       "      <td>0.366667</td>\n",
       "      <td>False</td>\n",
       "      <td>7971</td>\n",
       "      <td>7971</td>\n",
       "      <td>2</td>\n",
       "      <td>1</td>\n",
       "      <td>131 93 92</td>\n",
       "    </tr>\n",
       "    <tr>\n",
       "      <th>3</th>\n",
       "      <td>8</td>\n",
       "      <td>115</td>\n",
       "      <td>7984</td>\n",
       "      <td>False</td>\n",
       "      <td>21</td>\n",
       "      <td>3</td>\n",
       "      <td>0</td>\n",
       "      <td>0.333333</td>\n",
       "      <td>False</td>\n",
       "      <td>7984</td>\n",
       "      <td>7984</td>\n",
       "      <td>0</td>\n",
       "      <td>1</td>\n",
       "      <td>131 104 81</td>\n",
       "    </tr>\n",
       "    <tr>\n",
       "      <th>4</th>\n",
       "      <td>9</td>\n",
       "      <td>115</td>\n",
       "      <td>185</td>\n",
       "      <td>False</td>\n",
       "      <td>23</td>\n",
       "      <td>3</td>\n",
       "      <td>0</td>\n",
       "      <td>0.350000</td>\n",
       "      <td>False</td>\n",
       "      <td>185</td>\n",
       "      <td>185</td>\n",
       "      <td>0</td>\n",
       "      <td>1</td>\n",
       "      <td>131 111 81</td>\n",
       "    </tr>\n",
       "  </tbody>\n",
       "</table>\n",
       "</div>"
      ],
      "text/plain": [
       "   timestamp  user_id  content_id  content_type_id  task_container_id  \\\n",
       "0          4      115         152            False                 10   \n",
       "1          5      115         108            False                 12   \n",
       "2          6      115        7971            False                 15   \n",
       "3          8      115        7984            False                 21   \n",
       "4          9      115         185            False                 23   \n",
       "\n",
       "   user_answer  answered_correctly  prior_question_elapsed_time  \\\n",
       "0            2                   0                     0.283333   \n",
       "1            1                   0                     0.383333   \n",
       "2            2                   1                     0.366667   \n",
       "3            3                   0                     0.333333   \n",
       "4            3                   0                     0.350000   \n",
       "\n",
       "   prior_question_had_explanation  question_id  bundle_id  correct_answer  \\\n",
       "0                           False          152        152               1   \n",
       "1                           False          108        108               3   \n",
       "2                           False         7971       7971               2   \n",
       "3                           False         7984       7984               0   \n",
       "4                           False          185        185               0   \n",
       "\n",
       "   part          tags  \n",
       "0     1  131 5 162 81  \n",
       "1     1    131 104 92  \n",
       "2     1     131 93 92  \n",
       "3     1    131 104 81  \n",
       "4     1    131 111 81  "
      ]
     },
     "execution_count": 19,
     "metadata": {},
     "output_type": "execute_result"
    }
   ],
   "source": [
    "#объединим датасеты questions и train по общему ключу. \n",
    "train = pd.merge(train, questions, left_on = 'content_id', right_on = 'question_id', how = 'left')\n",
    "train.head()"
   ]
  },
  {
   "cell_type": "code",
   "execution_count": 20,
   "id": "c4c1ef07",
   "metadata": {},
   "outputs": [
    {
     "name": "stdout",
     "output_type": "stream",
     "text": [
      "<class 'pandas.core.frame.DataFrame'>\n",
      "Int64Index: 9927793 entries, 0 to 9927792\n",
      "Data columns (total 11 columns):\n",
      " #   Column                          Dtype  \n",
      "---  ------                          -----  \n",
      " 0   timestamp                       int64  \n",
      " 1   user_id                         int32  \n",
      " 2   task_container_id               int16  \n",
      " 3   user_answer                     int8   \n",
      " 4   answered_correctly              int8   \n",
      " 5   prior_question_elapsed_time     float64\n",
      " 6   prior_question_had_explanation  boolean\n",
      " 7   bundle_id                       int64  \n",
      " 8   correct_answer                  int64  \n",
      " 9   part                            int64  \n",
      " 10  tags                            object \n",
      "dtypes: boolean(1), float64(1), int16(1), int32(1), int64(4), int8(2), object(1)\n",
      "memory usage: 624.9+ MB\n"
     ]
    }
   ],
   "source": [
    "train.drop(['content_id', 'question_id', 'content_type_id', 'tags'], axis=1, inplace=True)\n",
    "train_df.dropna(inplace = True)\n",
    "train.info()\n",
    "#удалили ненужные столбцы"
   ]
  },
  {
   "cell_type": "markdown",
   "id": "6ef233db",
   "metadata": {},
   "source": [
    "### lectures.csv"
   ]
  },
  {
   "cell_type": "code",
   "execution_count": 21,
   "id": "2ec13ca7",
   "metadata": {},
   "outputs": [
    {
     "data": {
      "text/html": [
       "<div>\n",
       "<style scoped>\n",
       "    .dataframe tbody tr th:only-of-type {\n",
       "        vertical-align: middle;\n",
       "    }\n",
       "\n",
       "    .dataframe tbody tr th {\n",
       "        vertical-align: top;\n",
       "    }\n",
       "\n",
       "    .dataframe thead th {\n",
       "        text-align: right;\n",
       "    }\n",
       "</style>\n",
       "<table border=\"1\" class=\"dataframe\">\n",
       "  <thead>\n",
       "    <tr style=\"text-align: right;\">\n",
       "      <th></th>\n",
       "      <th>lecture_id</th>\n",
       "      <th>tag</th>\n",
       "      <th>part</th>\n",
       "      <th>type_of</th>\n",
       "    </tr>\n",
       "  </thead>\n",
       "  <tbody>\n",
       "    <tr>\n",
       "      <th>0</th>\n",
       "      <td>89</td>\n",
       "      <td>159</td>\n",
       "      <td>5</td>\n",
       "      <td>concept</td>\n",
       "    </tr>\n",
       "    <tr>\n",
       "      <th>1</th>\n",
       "      <td>100</td>\n",
       "      <td>70</td>\n",
       "      <td>1</td>\n",
       "      <td>concept</td>\n",
       "    </tr>\n",
       "    <tr>\n",
       "      <th>2</th>\n",
       "      <td>185</td>\n",
       "      <td>45</td>\n",
       "      <td>6</td>\n",
       "      <td>concept</td>\n",
       "    </tr>\n",
       "    <tr>\n",
       "      <th>3</th>\n",
       "      <td>192</td>\n",
       "      <td>79</td>\n",
       "      <td>5</td>\n",
       "      <td>solving question</td>\n",
       "    </tr>\n",
       "    <tr>\n",
       "      <th>4</th>\n",
       "      <td>317</td>\n",
       "      <td>156</td>\n",
       "      <td>5</td>\n",
       "      <td>solving question</td>\n",
       "    </tr>\n",
       "  </tbody>\n",
       "</table>\n",
       "</div>"
      ],
      "text/plain": [
       "   lecture_id  tag  part           type_of\n",
       "0          89  159     5           concept\n",
       "1         100   70     1           concept\n",
       "2         185   45     6           concept\n",
       "3         192   79     5  solving question\n",
       "4         317  156     5  solving question"
      ]
     },
     "execution_count": 21,
     "metadata": {},
     "output_type": "execute_result"
    }
   ],
   "source": [
    "lectures = pd.read_csv(path+'lectures.csv')\n",
    "lectures.head()"
   ]
  },
  {
   "cell_type": "code",
   "execution_count": 25,
   "id": "ee245187",
   "metadata": {},
   "outputs": [
    {
     "data": {
      "text/plain": [
       "concept             222\n",
       "solving question    186\n",
       "intention             7\n",
       "starter               3\n",
       "Name: type_of, dtype: int64"
      ]
     },
     "execution_count": 25,
     "metadata": {},
     "output_type": "execute_result"
    }
   ],
   "source": [
    "lectures['type_of'].value_counts()"
   ]
  },
  {
   "cell_type": "code",
   "execution_count": null,
   "id": "b223e489",
   "metadata": {},
   "outputs": [],
   "source": []
  },
  {
   "cell_type": "code",
   "execution_count": null,
   "id": "387b406e",
   "metadata": {},
   "outputs": [],
   "source": []
  },
  {
   "cell_type": "code",
   "execution_count": null,
   "id": "91a0ed6d",
   "metadata": {},
   "outputs": [],
   "source": []
  },
  {
   "cell_type": "code",
   "execution_count": null,
   "id": "3964b411",
   "metadata": {},
   "outputs": [],
   "source": []
  }
 ],
 "metadata": {
  "kernelspec": {
   "display_name": "Python 3 (ipykernel)",
   "language": "python",
   "name": "python3"
  },
  "language_info": {
   "codemirror_mode": {
    "name": "ipython",
    "version": 3
   },
   "file_extension": ".py",
   "mimetype": "text/x-python",
   "name": "python",
   "nbconvert_exporter": "python",
   "pygments_lexer": "ipython3",
   "version": "3.8.10"
  },
  "toc": {
   "base_numbering": 1,
   "nav_menu": {},
   "number_sections": true,
   "sideBar": true,
   "skip_h1_title": false,
   "title_cell": "Table of Contents",
   "title_sidebar": "Contents",
   "toc_cell": false,
   "toc_position": {},
   "toc_section_display": true,
   "toc_window_display": false
  }
 },
 "nbformat": 4,
 "nbformat_minor": 5
}
