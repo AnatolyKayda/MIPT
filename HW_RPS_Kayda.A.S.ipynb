{
 "cells": [
  {
   "cell_type": "code",
   "execution_count": 21,
   "metadata": {},
   "outputs": [
    {
     "name": "stdout",
     "output_type": "stream",
     "text": [
      "\u001b[33mWARNING: You are using pip version 22.0.4; however, version 22.2.2 is available.\r\n",
      "You should consider upgrading via the '/usr/bin/python3 -m pip install --upgrade pip' command.\u001b[0m\u001b[33m\r\n",
      "\u001b[0m"
     ]
    }
   ],
   "source": [
    "!pip install -q -U kaggle_environments"
   ]
  },
  {
   "cell_type": "code",
   "execution_count": 22,
   "metadata": {},
   "outputs": [],
   "source": [
    "import numpy as np\n",
    "import pandas as pd\n",
    "import random\n",
    "\n",
    "import matplotlib.pyplot as plt\n",
    "import seaborn as sns\n",
    "\n",
    "from kaggle_environments import make, evaluate"
   ]
  },
  {
   "cell_type": "markdown",
   "metadata": {},
   "source": [
    "### Напишем для начала три \"статических\" бота"
   ]
  },
  {
   "cell_type": "code",
   "execution_count": 23,
   "metadata": {},
   "outputs": [
    {
     "name": "stdout",
     "output_type": "stream",
     "text": [
      "Writing rock_agent.py\n"
     ]
    }
   ],
   "source": [
    "%%writefile rock_agent.py\n",
    "#только камень\n",
    "def rock_agent(observation, configuration):\n",
    "    return 0"
   ]
  },
  {
   "cell_type": "code",
   "execution_count": 24,
   "metadata": {},
   "outputs": [
    {
     "name": "stdout",
     "output_type": "stream",
     "text": [
      "Writing paper_agent.py\n"
     ]
    }
   ],
   "source": [
    "%%writefile paper_agent.py\n",
    "#только бумага\n",
    "def paper_agent(observation, configuration):\n",
    "    return 1"
   ]
  },
  {
   "cell_type": "code",
   "execution_count": 25,
   "metadata": {},
   "outputs": [
    {
     "name": "stdout",
     "output_type": "stream",
     "text": [
      "Writing scissors_agent.py\n"
     ]
    }
   ],
   "source": [
    "%%writefile scissors_agent.py\n",
    "#только ножницы\n",
    "def scissors_agent(observation, configuration):\n",
    "    return 2\n",
    "\n"
   ]
  },
  {
   "cell_type": "markdown",
   "metadata": {},
   "source": [
    "### Четыре случайных бота"
   ]
  },
  {
   "cell_type": "code",
   "execution_count": 26,
   "metadata": {},
   "outputs": [
    {
     "name": "stdout",
     "output_type": "stream",
     "text": [
      "Writing random_agent_rps.py\n"
     ]
    }
   ],
   "source": [
    "%%writefile random_agent_rps.py\n",
    "import random\n",
    "\n",
    "def random_agent_rps(observation, configuration):\n",
    "    return random.randrange(0,3)"
   ]
  },
  {
   "cell_type": "code",
   "execution_count": 27,
   "metadata": {},
   "outputs": [
    {
     "name": "stdout",
     "output_type": "stream",
     "text": [
      "Writing random_agent_rp.py\n"
     ]
    }
   ],
   "source": [
    "%%writefile random_agent_rp.py\n",
    "import random\n",
    "\n",
    "def random_agent_rp(observation, configuration):\n",
    "    return random.randrange(0,2)"
   ]
  },
  {
   "cell_type": "code",
   "execution_count": 28,
   "metadata": {},
   "outputs": [
    {
     "name": "stdout",
     "output_type": "stream",
     "text": [
      "Writing random_agent_ps.py\n"
     ]
    }
   ],
   "source": [
    "%%writefile random_agent_ps.py\n",
    "import random\n",
    "\n",
    "def random_agent_ps(observation, configuration):\n",
    "    return random.randrange(1,3)"
   ]
  },
  {
   "cell_type": "code",
   "execution_count": 29,
   "metadata": {},
   "outputs": [
    {
     "name": "stdout",
     "output_type": "stream",
     "text": [
      "Writing random_agent_rs.py\n"
     ]
    }
   ],
   "source": [
    "%%writefile random_agent_rs.py\n",
    "import random\n",
    "\n",
    "def random_agent_ps(observation, configuration):\n",
    "    action  = random.randrange(0,2)\n",
    "    if action==0:\n",
    "        return 0\n",
    "    else:\n",
    "        return 2"
   ]
  },
  {
   "cell_type": "markdown",
   "metadata": {},
   "source": [
    "### Копирование последнего действия противника"
   ]
  },
  {
   "cell_type": "code",
   "execution_count": 30,
   "metadata": {},
   "outputs": [
    {
     "name": "stdout",
     "output_type": "stream",
     "text": [
      "Overwriting copy_opponent.py\n"
     ]
    }
   ],
   "source": [
    "%%writefile copy_opponent.py\n",
    "import random\n",
    "\n",
    "def copy_opponent(observation, configuration):\n",
    "    \n",
    "    if observation.step > 0:\n",
    "        return observation.lastOpponentAction\n",
    "\n",
    "    else:\n",
    "        return random.randrange(0, configuration.signs)"
   ]
  },
  {
   "cell_type": "code",
   "execution_count": null,
   "metadata": {},
   "outputs": [],
   "source": []
  },
  {
   "cell_type": "code",
   "execution_count": null,
   "metadata": {},
   "outputs": [],
   "source": []
  },
  {
   "cell_type": "markdown",
   "metadata": {
    "id": "ExgIpXUVjbjN"
   },
   "source": [
    "Воспользуемся функцией evaluate из библиотеки kaggle_environments с помощью которой запустим наших агентов и проведем эксперимент на заданном количестве игр. Играть будут все со всеми по одному разу."
   ]
  },
  {
   "cell_type": "code",
   "execution_count": 13,
   "metadata": {
    "scrolled": false
   },
   "outputs": [],
   "source": [
    "\"\"\" Данная функция предназначена для проведения соревнования между ботами.\n",
    "    Имена ботов передаются с помощью списка. \n",
    "    Все играют со всеми по 100 партий. \n",
    "    Функция возвращает словарь имя_бота-количество побед \"\"\"\n",
    "\n",
    "def competition(agent_list):\n",
    "\n",
    "    competition_dict = {}\n",
    "    for agent in agent_list:\n",
    "        competition_dict[agent] = 0\n",
    "\n",
    "    for i in range(0,len(agent_list)):\n",
    "        for j in range(i+1, len(agent_list)):   \n",
    "            score = evaluate(\"rps\", \n",
    "                         [agent_list[i], agent_list[j]], \n",
    "                         configuration={\"episodeSteps\": 100,   'tieRewardThreshold': 1})\n",
    "            if score[0][0] > score[0][1]:\n",
    "                competition_dict[agent_list[i]] += 1\n",
    "            elif score[0][0] < score[0][1]:\n",
    "                competition_dict[agent_list[j]] += 1\n",
    "            else: #ничья\n",
    "                pass \n",
    "\n",
    "    return competition_dict"
   ]
  },
  {
   "cell_type": "markdown",
   "metadata": {},
   "source": [
    "Турнир где есть один победитель. Каждый раунд выбывает самый слабый и все повторяется заново. "
   ]
  },
  {
   "cell_type": "code",
   "execution_count": 12,
   "metadata": {
    "scrolled": true
   },
   "outputs": [
    {
     "name": "stdout",
     "output_type": "stream",
     "text": [
      "Раунд №1\n",
      "{'rock_agent.py': 2, 'paper_agent.py': 5, 'scissors_agent.py': 3, 'copy_opponent.py': 0, 'random_agent_rps.py': 4, 'random_agent_rp.py': 3, 'random_agent_ps.py': 4, 'random_agent_rs.py': 4}\n",
      "\n",
      "Раунд №2\n",
      "{'rock_agent.py': 3, 'paper_agent.py': 3, 'scissors_agent.py': 4, 'random_agent_rps.py': 1, 'random_agent_rp.py': 3, 'random_agent_ps.py': 2, 'random_agent_rs.py': 4}\n",
      "\n",
      "Раунд №3\n",
      "{'rock_agent.py': 3, 'paper_agent.py': 2, 'scissors_agent.py': 3, 'random_agent_rp.py': 2, 'random_agent_ps.py': 2, 'random_agent_rs.py': 3}\n",
      "\n",
      "Раунд №4\n",
      "{'rock_agent.py': 3, 'scissors_agent.py': 2, 'random_agent_rp.py': 2, 'random_agent_ps.py': 1, 'random_agent_rs.py': 2}\n",
      "\n",
      "Раунд №5\n",
      "{'rock_agent.py': 2, 'scissors_agent.py': 0, 'random_agent_rp.py': 3, 'random_agent_rs.py': 1}\n",
      "\n",
      "Раунд №6\n",
      "{'rock_agent.py': 1, 'random_agent_rp.py': 2, 'random_agent_rs.py': 0}\n",
      "\n",
      "Раунд №7\n",
      "{'rock_agent.py': 0, 'random_agent_rp.py': 1}\n",
      "\n",
      "Победитель: random_agent_rp.py\n"
     ]
    }
   ],
   "source": [
    "agent_list = ['rock_agent.py', 'paper_agent.py', 'scissors_agent.py', 'copy_opponent.py', \n",
    "                 'random_agent_rps.py', 'random_agent_rp.py', 'random_agent_ps.py', 'random_agent_rs.py']\n",
    "\n",
    "\n",
    "len_agent_list = len(agent_list) + 1\n",
    "while len(agent_list)>=1:\n",
    "    if len(agent_list)==1:\n",
    "        print('Победитель:',  *agent_list)\n",
    "        break \n",
    "    competition_dict = competition(agent_list)\n",
    "    print(f\"Раунд №{len_agent_list-len(agent_list)}\", )\n",
    "    print(competition_dict)\n",
    "    print()\n",
    "    min_key = min(competition_dict.keys(), key=lambda k: competition_dict[k])\n",
    "    del competition_dict[min_key]\n",
    "    agent_list = list(competition_dict.keys())"
   ]
  }
 ],
 "metadata": {
  "colab": {
   "collapsed_sections": [],
   "provenance": []
  },
  "kernelspec": {
   "display_name": "Python 3 (ipykernel)",
   "language": "python",
   "name": "python3"
  },
  "language_info": {
   "codemirror_mode": {
    "name": "ipython",
    "version": 3
   },
   "file_extension": ".py",
   "mimetype": "text/x-python",
   "name": "python",
   "nbconvert_exporter": "python",
   "pygments_lexer": "ipython3",
   "version": "3.8.10"
  },
  "toc": {
   "base_numbering": 1,
   "nav_menu": {},
   "number_sections": true,
   "sideBar": true,
   "skip_h1_title": false,
   "title_cell": "Table of Contents",
   "title_sidebar": "Contents",
   "toc_cell": false,
   "toc_position": {},
   "toc_section_display": true,
   "toc_window_display": false
  }
 },
 "nbformat": 4,
 "nbformat_minor": 1
}
